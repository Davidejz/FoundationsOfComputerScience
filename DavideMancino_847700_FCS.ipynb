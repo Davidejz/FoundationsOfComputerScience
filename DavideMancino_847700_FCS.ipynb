{
 "cells": [
  {
   "cell_type": "markdown",
   "metadata": {
    "deletable": true,
    "editable": true
   },
   "source": [
    "# <div style=\"text-align: center\"> DAVIDE MANCINO (847700) - FOUNDATIONS OF COMPUTER SCIENCE</div>\n",
    "## <div style=\"text-align: center\"> Kiva.org Project </div>\n",
    "### <div style=\"text-align: right\"> Settembre 2020 </div>\n",
    "\n",
    "**- Python:** 3.6.10<br>\n",
    "**- Pandas:** 1.1.2<br>"
   ]
  },
  {
   "cell_type": "code",
   "execution_count": 5,
   "metadata": {
    "collapsed": true,
    "deletable": true,
    "editable": true
   },
   "outputs": [],
   "source": [
    "import pandas as pd\n",
    "import numpy as np\n",
    "import datetime\n",
    "import random\n",
    "import time"
   ]
  },
  {
   "cell_type": "markdown",
   "metadata": {
    "deletable": true,
    "editable": true
   },
   "source": [
    "Come prima cosa vengono caricati i dati forniti da Kiva.org in memoria"
   ]
  },
  {
   "cell_type": "code",
   "execution_count": 6,
   "metadata": {
    "collapsed": true,
    "deletable": true,
    "editable": true
   },
   "outputs": [],
   "source": [
    "def load_dataset(name):\n",
    "    df= pd.read_csv(r'{}'.format(name))\n",
    "    return df"
   ]
  },
  {
   "cell_type": "code",
   "execution_count": 7,
   "metadata": {
    "collapsed": true,
    "deletable": true,
    "editable": true
   },
   "outputs": [],
   "source": [
    "loans_lenders=load_dataset(\"./loans_lenders.csv\")\n",
    "loans=load_dataset(\"./loans.csv\")\n",
    "lenders=load_dataset(\"./lenders.csv\")\n",
    "country_stats=load_dataset(\"./country_stats.csv\")"
   ]
  },
  {
   "cell_type": "code",
   "execution_count": 14,
   "metadata": {
    "collapsed": false,
    "deletable": true,
    "editable": true
   },
   "outputs": [
    {
     "data": {
      "text/plain": [
       "loan_id     int64\n",
       "lenders    object\n",
       "dtype: object"
      ]
     },
     "execution_count": 14,
     "metadata": {},
     "output_type": "execute_result"
    }
   ],
   "source": [
    "loans_lenders.dtypes"
   ]
  },
  {
   "cell_type": "markdown",
   "metadata": {
    "deletable": true,
    "editable": true
   },
   "source": [
    "#### 1) Normalize the loan_lenders table. In the normalized table, each row must have one loan_id and one lender.\n",
    "\n",
    "Per riuscire a completare questa consegna si è deciso di utilizzare la funzione *Pandas* **\".explode()\"** , che permette di trasformare ogni elemento di una lista in una riga, replicando i valori dell'indice. \n",
    "Quindi, come prima cosa *loan_id* è stato settato come indice, in seguito *lenders* è stato diviso per la stringa **', '** la lista risultante è stato l'input per la funzione **.explode()** . Infine è stato applicato un reset dell'indice."
   ]
  },
  {
   "cell_type": "code",
   "execution_count": 15,
   "metadata": {
    "collapsed": false,
    "deletable": true,
    "editable": true
   },
   "outputs": [
    {
     "data": {
      "text/html": [
       "<div>\n",
       "<style scoped>\n",
       "    .dataframe tbody tr th:only-of-type {\n",
       "        vertical-align: middle;\n",
       "    }\n",
       "\n",
       "    .dataframe tbody tr th {\n",
       "        vertical-align: top;\n",
       "    }\n",
       "\n",
       "    .dataframe thead th {\n",
       "        text-align: right;\n",
       "    }\n",
       "</style>\n",
       "<table border=\"1\" class=\"dataframe\">\n",
       "  <thead>\n",
       "    <tr style=\"text-align: right;\">\n",
       "      <th></th>\n",
       "      <th>loan_id</th>\n",
       "      <th>lenders</th>\n",
       "    </tr>\n",
       "  </thead>\n",
       "  <tbody>\n",
       "    <tr>\n",
       "      <th>0</th>\n",
       "      <td>483693</td>\n",
       "      <td>muc888</td>\n",
       "    </tr>\n",
       "    <tr>\n",
       "      <th>1</th>\n",
       "      <td>483693</td>\n",
       "      <td>sam4326</td>\n",
       "    </tr>\n",
       "    <tr>\n",
       "      <th>2</th>\n",
       "      <td>483693</td>\n",
       "      <td>camaran3922</td>\n",
       "    </tr>\n",
       "    <tr>\n",
       "      <th>3</th>\n",
       "      <td>483693</td>\n",
       "      <td>lachheb1865</td>\n",
       "    </tr>\n",
       "    <tr>\n",
       "      <th>4</th>\n",
       "      <td>483693</td>\n",
       "      <td>rebecca3499</td>\n",
       "    </tr>\n",
       "    <tr>\n",
       "      <th>...</th>\n",
       "      <td>...</td>\n",
       "      <td>...</td>\n",
       "    </tr>\n",
       "    <tr>\n",
       "      <th>28293926</th>\n",
       "      <td>1206425</td>\n",
       "      <td>trogdorfamily7622</td>\n",
       "    </tr>\n",
       "    <tr>\n",
       "      <th>28293927</th>\n",
       "      <td>1206425</td>\n",
       "      <td>danny6470</td>\n",
       "    </tr>\n",
       "    <tr>\n",
       "      <th>28293928</th>\n",
       "      <td>1206425</td>\n",
       "      <td>don6118</td>\n",
       "    </tr>\n",
       "    <tr>\n",
       "      <th>28293929</th>\n",
       "      <td>1206486</td>\n",
       "      <td>alan5175</td>\n",
       "    </tr>\n",
       "    <tr>\n",
       "      <th>28293930</th>\n",
       "      <td>1206486</td>\n",
       "      <td>amy38101311</td>\n",
       "    </tr>\n",
       "  </tbody>\n",
       "</table>\n",
       "<p>28293931 rows × 2 columns</p>\n",
       "</div>"
      ],
      "text/plain": [
       "          loan_id            lenders\n",
       "0          483693             muc888\n",
       "1          483693            sam4326\n",
       "2          483693        camaran3922\n",
       "3          483693        lachheb1865\n",
       "4          483693        rebecca3499\n",
       "...           ...                ...\n",
       "28293926  1206425  trogdorfamily7622\n",
       "28293927  1206425          danny6470\n",
       "28293928  1206425            don6118\n",
       "28293929  1206486           alan5175\n",
       "28293930  1206486        amy38101311\n",
       "\n",
       "[28293931 rows x 2 columns]"
      ]
     },
     "execution_count": 15,
     "metadata": {},
     "output_type": "execute_result"
    }
   ],
   "source": [
    "loans_lenders_norm = loans_lenders.set_index(['loan_id']).apply(lambda x: x.str.split(', ').explode()).reset_index()\n",
    "loans_lenders_norm"
   ]
  },
  {
   "cell_type": "markdown",
   "metadata": {
    "deletable": true,
    "editable": true
   },
   "source": [
    "#### 2) For each loan, add a column duration corresponding to the number of days between the disburse time and the planned expiration time. If any of those two dates is missing, also the duration must be missing.\n",
    "\n",
    "Tramite la funzione **.dtypes** , prima di tutto osserviamo il tipo degli attributi *disburse_time* e *planned_expiration_time*. Dopo aver visto che sono di tipo *object* è stata creata la funzione **get_duration()** dove gli attributi *disburse time* e *planned expiration time* vengono trasformati in formato *date* , è stata così generata la colonna **duration** valorizzata con la differenza tra i due attributi."
   ]
  },
  {
   "cell_type": "code",
   "execution_count": 34,
   "metadata": {
    "collapsed": false
   },
   "outputs": [
    {
     "data": {
      "text/plain": [
       "disburse_time              object\n",
       "planned_expiration_time    object\n",
       "dtype: object"
      ]
     },
     "execution_count": 34,
     "metadata": {},
     "output_type": "execute_result"
    }
   ],
   "source": [
    "loans[['disburse_time', 'planned_expiration_time']].dtypes"
   ]
  },
  {
   "cell_type": "code",
   "execution_count": 42,
   "metadata": {
    "collapsed": false,
    "deletable": true,
    "editable": true
   },
   "outputs": [],
   "source": [
    "def get_duration():\n",
    "    loans[['disburse_time', 'planned_expiration_time']]=loans[['disburse_time','planned_expiration_time']].apply(pd.to_datetime).apply(lambda x: x.dt.date)\n",
    "    loans['duration']=(loans['planned_expiration_time']-loans['disburse_time']).dt.days\n",
    "    print(loans['duration'])"
   ]
  },
  {
   "cell_type": "code",
   "execution_count": 43,
   "metadata": {
    "collapsed": false,
    "deletable": true,
    "editable": true
   },
   "outputs": [
    {
     "name": "stdout",
     "output_type": "stream",
     "text": [
      "0          54.0\n",
      "1          96.0\n",
      "2          37.0\n",
      "3          35.0\n",
      "4          58.0\n",
      "           ... \n",
      "1419602    40.0\n",
      "1419603    39.0\n",
      "1419604    51.0\n",
      "1419605    63.0\n",
      "1419606    61.0\n",
      "Name: duration, Length: 1419607, dtype: float64\n"
     ]
    }
   ],
   "source": [
    "get_duration()"
   ]
  },
  {
   "cell_type": "markdown",
   "metadata": {},
   "source": [
    "Infine, sono stati conteggiati i valori *missing* presenti all'interno della colonna **duration** "
   ]
  },
  {
   "cell_type": "code",
   "execution_count": 44,
   "metadata": {
    "collapsed": false
   },
   "outputs": [
    {
     "name": "stdout",
     "output_type": "stream",
     "text": [
      "False    1044962\n",
      "True      374645\n",
      "Name: duration, dtype: int64\n"
     ]
    }
   ],
   "source": [
    "print(loans['duration'].isnull().value_counts())"
   ]
  },
  {
   "cell_type": "markdown",
   "metadata": {
    "deletable": true,
    "editable": true
   },
   "source": [
    "#### 3) Find the lenders that have funded at least twice.\n",
    "\n",
    "Per riuscire ad estrarre tutti i *lenders* che hanno finanziato *almeno due volte* bisogna effettuare prima di tutto un merge tra dataframe **loans** (filtrando solamente i prestiti con *status== 'funded'*) e la tabella precedentemente creata **loans_lenders_norm**. Successivamente vengono restituiti solo i *lenders* che hanno investito almeno due volte. "
   ]
  },
  {
   "cell_type": "code",
   "execution_count": 78,
   "metadata": {
    "collapsed": false
   },
   "outputs": [
    {
     "data": {
      "text/plain": [
       "array(['funded', 'expired', 'refunded', 'fundRaising'], dtype=object)"
      ]
     },
     "execution_count": 78,
     "metadata": {},
     "output_type": "execute_result"
    }
   ],
   "source": [
    "loans['status'].unique()"
   ]
  },
  {
   "cell_type": "code",
   "execution_count": 79,
   "metadata": {
    "collapsed": false,
    "deletable": true,
    "editable": true
   },
   "outputs": [],
   "source": [
    "def lenders_funded_geTwo():\n",
    "    loans_funded = pd.merge(loans['loan_id'][loans['status'] == 'funded'], loans_lenders_norm, on = 'loan_id')\n",
    "    print(loans_funded['lenders'].value_counts().loc[lambda x: x>=2])"
   ]
  },
  {
   "cell_type": "code",
   "execution_count": 80,
   "metadata": {
    "collapsed": false,
    "deletable": true,
    "editable": true
   },
   "outputs": [
    {
     "name": "stdout",
     "output_type": "stream",
     "text": [
      "gooddogg1           167512\n",
      "trolltech4460       141268\n",
      "gmct                123164\n",
      "nms                  96713\n",
      "themissionbeltco     74067\n",
      "                     ...  \n",
      "sheila4402               2\n",
      "ron3099                  2\n",
      "steve61804751            2\n",
      "tom52703970              2\n",
      "andreas2888              2\n",
      "Name: lenders, Length: 893981, dtype: int64\n"
     ]
    }
   ],
   "source": [
    "lenders_funded_geTwo()"
   ]
  },
  {
   "cell_type": "markdown",
   "metadata": {
    "deletable": true,
    "editable": true
   },
   "source": [
    "#### 4) For each country, compute how many loans have involved that country as borrowers.\n",
    "\n",
    "Per calcolare il corretto valore richiesto bisogna contare tutte le occorrenze per ogni Nazione presenti all'interno del campo **country_name** del dataframe *loans*."
   ]
  },
  {
   "cell_type": "code",
   "execution_count": 81,
   "metadata": {
    "collapsed": false,
    "deletable": true,
    "editable": true
   },
   "outputs": [
    {
     "data": {
      "text/plain": [
       "Philippines         285336\n",
       "Kenya               143699\n",
       "Peru                 86000\n",
       "Cambodia             79701\n",
       "El Salvador          64037\n",
       "                     ...  \n",
       "Uruguay                  1\n",
       "Canada                   1\n",
       "Botswana                 1\n",
       "Mauritania               1\n",
       "Papua New Guinea         1\n",
       "Name: country_name, Length: 96, dtype: int64"
      ]
     },
     "execution_count": 81,
     "metadata": {},
     "output_type": "execute_result"
    }
   ],
   "source": [
    "loans['country_name'].value_counts()"
   ]
  },
  {
   "cell_type": "markdown",
   "metadata": {
    "deletable": true,
    "editable": true
   },
   "source": [
    "#### 5) For each country, compute the overall amount of money borrowed.\n",
    "\n",
    "In questo caso per soddisfare la richiesta abbiamo la necessità di effettuare una **group by** sul campo *country_name* del dataframe *loans* ed effettuare una somma dell'importo preso in prestito *loan_amount*."
   ]
  },
  {
   "cell_type": "code",
   "execution_count": 98,
   "metadata": {
    "collapsed": false,
    "deletable": true,
    "editable": true
   },
   "outputs": [
    {
     "data": {
      "text/plain": [
       "country_name\n",
       "Afghanistan        1967950.0\n",
       "Albania            4307350.0\n",
       "Armenia           22950475.0\n",
       "Azerbaijan        14784625.0\n",
       "Belize              150175.0\n",
       "                     ...    \n",
       "Vietnam           24681100.0\n",
       "Virgin Islands       10000.0\n",
       "Yemen              3444000.0\n",
       "Zambia             1978975.0\n",
       "Zimbabwe           5851875.0\n",
       "Name: loan_amount, Length: 96, dtype: float64"
      ]
     },
     "execution_count": 98,
     "metadata": {},
     "output_type": "execute_result"
    }
   ],
   "source": [
    "country_borrowed = loans.groupby('country_name')['loan_amount'].sum()\n",
    "country_borrowed"
   ]
  },
  {
   "cell_type": "markdown",
   "metadata": {
    "deletable": true,
    "editable": true
   },
   "source": [
    "#### 6) Like the previous point, but expressed as a percentage of the overall amount lent.\n",
    "\n",
    "Viene calcolata la percentuale di denaro preso in prestito sul denaro prestato effettuando il calcolo allo stesso modo della somma per Nazione del *funded_amount* che rappresenterà il nostro denominatore. Infine, calcoliamo la percentuale utilizzando il campo calcolato precedentemente."
   ]
  },
  {
   "cell_type": "code",
   "execution_count": 116,
   "metadata": {
    "collapsed": false,
    "deletable": true,
    "editable": true
   },
   "outputs": [
    {
     "data": {
      "text/plain": [
       "country_name\n",
       "Afghanistan       100.17\n",
       "Albania           107.89\n",
       "Armenia           113.14\n",
       "Azerbaijan        104.18\n",
       "Belize            100.00\n",
       "                   ...  \n",
       "Vietnam           105.19\n",
       "Virgin Islands       inf\n",
       "Yemen             103.11\n",
       "Zambia            103.44\n",
       "Zimbabwe          100.57\n",
       "Length: 96, dtype: float64"
      ]
     },
     "execution_count": 116,
     "metadata": {},
     "output_type": "execute_result"
    }
   ],
   "source": [
    "country_lent=loans.groupby('country_name')['funded_amount'].sum()\n",
    "round((country_borrowed/country_lent)*100,2)"
   ]
  },
  {
   "cell_type": "markdown",
   "metadata": {
    "deletable": true,
    "editable": true
   },
   "source": [
    "#### 7) Like the three previous points, but split for each year (with respect to disburse_time).\n",
    "\n",
    "Come prima operazione viene creata una colonna *disburse_year* all'interno del dataframe **loans** contenente solamente l'anno della rispettiva data di *disburse_time*."
   ]
  },
  {
   "cell_type": "code",
   "execution_count": 100,
   "metadata": {
    "collapsed": true,
    "deletable": true,
    "editable": true
   },
   "outputs": [],
   "source": [
    "loans['disburse_year']=loans['disburse_time'].apply(lambda x:x.year)"
   ]
  },
  {
   "cell_type": "markdown",
   "metadata": {
    "deletable": true,
    "editable": true
   },
   "source": [
    "Successivamente andiamo ad effettuare un raggruppamento per *country_name* e *disburse_year* andando a sommare il valore di denaro preso in prestito *loan_amount*. Il risultato è una tabella dove sono presenti i dettagli di denaro preso in prestito per anno per tutte le Nazioni presenti all'interno del dataframe **loans**."
   ]
  },
  {
   "cell_type": "code",
   "execution_count": 101,
   "metadata": {
    "collapsed": false,
    "deletable": true,
    "editable": true
   },
   "outputs": [
    {
     "data": {
      "text/plain": [
       "country_name  disburse_year\n",
       "Afghanistan   2007.0            194975.0\n",
       "              2008.0            365375.0\n",
       "              2009.0            585125.0\n",
       "              2010.0            563350.0\n",
       "              2011.0            245125.0\n",
       "                                 ...    \n",
       "Zimbabwe      2013.0            678525.0\n",
       "              2014.0           1311575.0\n",
       "              2015.0            723625.0\n",
       "              2016.0            788600.0\n",
       "              2017.0           1237600.0\n",
       "Name: loan_amount, Length: 748, dtype: float64"
      ]
     },
     "execution_count": 101,
     "metadata": {},
     "output_type": "execute_result"
    }
   ],
   "source": [
    "loans.groupby(['country_name', 'disburse_year'])['loan_amount'].sum()"
   ]
  },
  {
   "cell_type": "markdown",
   "metadata": {
    "deletable": true,
    "editable": true
   },
   "source": [
    "Infine, viene calcolata la percentuale di denaro preso in prestito (*loan_amount*) su denaro prestato totale (*funded_amount*) sempre lasciando una aggregazione per Nazione e anno di erogazione."
   ]
  },
  {
   "cell_type": "code",
   "execution_count": 18,
   "metadata": {},
   "outputs": [
    {
     "data": {
      "text/plain": [
       "country_name  disburse_year\n",
       "Afghanistan   2007.0           0.02\n",
       "              2008.0           0.03\n",
       "              2009.0           0.05\n",
       "              2010.0           0.05\n",
       "              2011.0           0.02\n",
       "                               ... \n",
       "Zimbabwe      2013.0           0.06\n",
       "              2014.0           0.12\n",
       "              2015.0           0.06\n",
       "              2016.0           0.07\n",
       "              2017.0           0.11\n",
       "Name: loan_amount, Length: 748, dtype: float64"
      ]
     },
     "execution_count": 18,
     "metadata": {},
     "output_type": "execute_result"
    }
   ],
   "source": [
    "round((loans.groupby(['country_name', 'disburse_year'])['loan_amount'].sum() / loans['funded_amount'].sum()) * 100,2)"
   ]
  },
  {
   "cell_type": "markdown",
   "metadata": {
    "deletable": true,
    "editable": true
   },
   "source": [
    "#### 8) For each lender, compute the overall amount of money lent. For each loan that has more than one lender, you must assume that all lenders contributed the same amount. \n",
    "\n",
    "La prima operazione che va effettuata è un *merge* tra il dataframe precentemente normalizzato **loans_lenders_normalized** e **loans**, l'obiettivo è quello di riuscire a creare per ogni *lenders* di ogni *loan_id* il suo contributo assumendo che tutti contribuiscano allo stesso modo."
   ]
  },
  {
   "cell_type": "code",
   "execution_count": 108,
   "metadata": {
    "collapsed": false,
    "deletable": true,
    "editable": true
   },
   "outputs": [
    {
     "data": {
      "text/html": [
       "<div>\n",
       "<style scoped>\n",
       "    .dataframe tbody tr th:only-of-type {\n",
       "        vertical-align: middle;\n",
       "    }\n",
       "\n",
       "    .dataframe tbody tr th {\n",
       "        vertical-align: top;\n",
       "    }\n",
       "\n",
       "    .dataframe thead th {\n",
       "        text-align: right;\n",
       "    }\n",
       "</style>\n",
       "<table border=\"1\" class=\"dataframe\">\n",
       "  <thead>\n",
       "    <tr style=\"text-align: right;\">\n",
       "      <th></th>\n",
       "      <th>loan_id</th>\n",
       "      <th>lenders</th>\n",
       "      <th>funded_amount</th>\n",
       "      <th>num_lenders_total</th>\n",
       "      <th>amount</th>\n",
       "    </tr>\n",
       "  </thead>\n",
       "  <tbody>\n",
       "    <tr>\n",
       "      <th>0</th>\n",
       "      <td>483693</td>\n",
       "      <td>muc888</td>\n",
       "      <td>1225.0</td>\n",
       "      <td>44</td>\n",
       "      <td>27.840909</td>\n",
       "    </tr>\n",
       "    <tr>\n",
       "      <th>1</th>\n",
       "      <td>483693</td>\n",
       "      <td>sam4326</td>\n",
       "      <td>1225.0</td>\n",
       "      <td>44</td>\n",
       "      <td>27.840909</td>\n",
       "    </tr>\n",
       "    <tr>\n",
       "      <th>2</th>\n",
       "      <td>483693</td>\n",
       "      <td>camaran3922</td>\n",
       "      <td>1225.0</td>\n",
       "      <td>44</td>\n",
       "      <td>27.840909</td>\n",
       "    </tr>\n",
       "    <tr>\n",
       "      <th>3</th>\n",
       "      <td>483693</td>\n",
       "      <td>lachheb1865</td>\n",
       "      <td>1225.0</td>\n",
       "      <td>44</td>\n",
       "      <td>27.840909</td>\n",
       "    </tr>\n",
       "    <tr>\n",
       "      <th>4</th>\n",
       "      <td>483693</td>\n",
       "      <td>rebecca3499</td>\n",
       "      <td>1225.0</td>\n",
       "      <td>44</td>\n",
       "      <td>27.840909</td>\n",
       "    </tr>\n",
       "  </tbody>\n",
       "</table>\n",
       "</div>"
      ],
      "text/plain": [
       "   loan_id      lenders  funded_amount  num_lenders_total     amount\n",
       "0   483693       muc888         1225.0                 44  27.840909\n",
       "1   483693      sam4326         1225.0                 44  27.840909\n",
       "2   483693  camaran3922         1225.0                 44  27.840909\n",
       "3   483693  lachheb1865         1225.0                 44  27.840909\n",
       "4   483693  rebecca3499         1225.0                 44  27.840909"
      ]
     },
     "execution_count": 108,
     "metadata": {},
     "output_type": "execute_result"
    }
   ],
   "source": [
    "money_lenders= pd.merge(loans_lenders_norm, loans[['loan_id', 'funded_amount', 'num_lenders_total']],on = 'loan_id')\n",
    "money_lenders['amount']= money_lenders['funded_amount'] / money_lenders['num_lenders_total']\n",
    "money_lenders.head()"
   ]
  },
  {
   "cell_type": "markdown",
   "metadata": {},
   "source": [
    "Infine, per calcolare l'ammontare totale dei soldi prestati da ogni lenders non facciamo altro che sommare tutti gli amount calcolati per lenders."
   ]
  },
  {
   "cell_type": "code",
   "execution_count": 110,
   "metadata": {
    "collapsed": false
   },
   "outputs": [
    {
     "data": {
      "text/html": [
       "<div>\n",
       "<style scoped>\n",
       "    .dataframe tbody tr th:only-of-type {\n",
       "        vertical-align: middle;\n",
       "    }\n",
       "\n",
       "    .dataframe tbody tr th {\n",
       "        vertical-align: top;\n",
       "    }\n",
       "\n",
       "    .dataframe thead th {\n",
       "        text-align: right;\n",
       "    }\n",
       "</style>\n",
       "<table border=\"1\" class=\"dataframe\">\n",
       "  <thead>\n",
       "    <tr style=\"text-align: right;\">\n",
       "      <th></th>\n",
       "      <th>lenders</th>\n",
       "      <th>amount_money_lent</th>\n",
       "    </tr>\n",
       "  </thead>\n",
       "  <tbody>\n",
       "    <tr>\n",
       "      <th>0</th>\n",
       "      <td>000</td>\n",
       "      <td>1512.10</td>\n",
       "    </tr>\n",
       "    <tr>\n",
       "      <th>1</th>\n",
       "      <td>00000</td>\n",
       "      <td>1249.13</td>\n",
       "    </tr>\n",
       "    <tr>\n",
       "      <th>2</th>\n",
       "      <td>0002</td>\n",
       "      <td>2201.18</td>\n",
       "    </tr>\n",
       "    <tr>\n",
       "      <th>3</th>\n",
       "      <td>00mike00</td>\n",
       "      <td>38.46</td>\n",
       "    </tr>\n",
       "    <tr>\n",
       "      <th>4</th>\n",
       "      <td>0101craign0101</td>\n",
       "      <td>2424.09</td>\n",
       "    </tr>\n",
       "    <tr>\n",
       "      <th>...</th>\n",
       "      <td>...</td>\n",
       "      <td>...</td>\n",
       "    </tr>\n",
       "    <tr>\n",
       "      <th>1383794</th>\n",
       "      <td>zzmcfate</td>\n",
       "      <td>57535.95</td>\n",
       "    </tr>\n",
       "    <tr>\n",
       "      <th>1383795</th>\n",
       "      <td>zzpaghetti9994</td>\n",
       "      <td>44.25</td>\n",
       "    </tr>\n",
       "    <tr>\n",
       "      <th>1383796</th>\n",
       "      <td>zzrvmf8538</td>\n",
       "      <td>480.82</td>\n",
       "    </tr>\n",
       "    <tr>\n",
       "      <th>1383797</th>\n",
       "      <td>zzzsai</td>\n",
       "      <td>236.89</td>\n",
       "    </tr>\n",
       "    <tr>\n",
       "      <th>1383798</th>\n",
       "      <td>zzzworld</td>\n",
       "      <td>26.32</td>\n",
       "    </tr>\n",
       "  </tbody>\n",
       "</table>\n",
       "<p>1383799 rows × 2 columns</p>\n",
       "</div>"
      ],
      "text/plain": [
       "                lenders  amount_money_lent\n",
       "0                   000            1512.10\n",
       "1                 00000            1249.13\n",
       "2                  0002            2201.18\n",
       "3              00mike00              38.46\n",
       "4        0101craign0101            2424.09\n",
       "...                 ...                ...\n",
       "1383794        zzmcfate           57535.95\n",
       "1383795  zzpaghetti9994              44.25\n",
       "1383796      zzrvmf8538             480.82\n",
       "1383797          zzzsai             236.89\n",
       "1383798        zzzworld              26.32\n",
       "\n",
       "[1383799 rows x 2 columns]"
      ]
     },
     "execution_count": 110,
     "metadata": {},
     "output_type": "execute_result"
    }
   ],
   "source": [
    "money_lenders.groupby('lenders')['amount'].sum().round(2).reset_index(name='amount_money_lent')"
   ]
  },
  {
   "cell_type": "markdown",
   "metadata": {
    "deletable": true,
    "editable": true
   },
   "source": [
    "#### 9) For each country, compute the difference between the overall amount of money lent and the overall amount of money borrowed. Since the country of the lender is often unknown, you can assume that the true distribution among the countries is the same as the one computed from the rows where the country is known.\n",
    "\n",
    "Dopo aver controllato il numero di *county_code* nulli all'interno dei dataframe **loans** e **lenders** , bisogna creare due funzioni che ci permettano di sostituire i *missing values* con dei *country_code* noti presenti nelle righe vicine.\n",
    "Questa soluzione è state implementata utilizzando la **random.choice** della libreria **numpy**."
   ]
  },
  {
   "cell_type": "code",
   "execution_count": 120,
   "metadata": {
    "collapsed": false,
    "deletable": true,
    "editable": true
   },
   "outputs": [
    {
     "name": "stdout",
     "output_type": "stream",
     "text": [
      "False    1419598\n",
      "True           9\n",
      "Name: country_code, dtype: int64\n",
      "True     1458635\n",
      "False     890539\n",
      "Name: country_code, dtype: int64\n"
     ]
    }
   ],
   "source": [
    "print(loans['country_code'].isna().value_counts())\n",
    "print(lenders['country_code'].isna().value_counts())"
   ]
  },
  {
   "cell_type": "code",
   "execution_count": 121,
   "metadata": {
    "collapsed": true,
    "deletable": true,
    "editable": true
   },
   "outputs": [],
   "source": [
    "def fill_null_country_codes(series):\n",
    "    \n",
    "    replaces=[]\n",
    "    \n",
    "    #tengo solamente i valori non nulli;\n",
    "    not_null_country_codes=pd.unique(series.dropna())\n",
    "    replaces.append(not_null_country_codes)\n",
    "    \n",
    "    #calcolo la probabilità per ogni country_code;\n",
    "    replace_probs=series.dropna().value_counts()/len(series.dropna())\n",
    "    replaces.append(replace_probs)\n",
    "    \n",
    "    #identifico gli indici con country_code nullo;\n",
    "    null_country_code_idxs=series.index[series.isnull()]\n",
    "    replaces.append(null_country_code_idxs)\n",
    "    \n",
    "    #calcolo quanti siano gli indici con country_code nullo;\n",
    "    replaces.append(len(null_country_code_idxs))\n",
    "    \n",
    "    return replaces"
   ]
  },
  {
   "cell_type": "code",
   "execution_count": 122,
   "metadata": {
    "collapsed": true,
    "deletable": true,
    "editable": true
   },
   "outputs": [],
   "source": [
    "def replace_null_country_codes(df,series):\n",
    "    #richiama la funzione precedente;\n",
    "    country_codes=fill_null_country_codes(series)\n",
    "    \n",
    "    #utilizzo la lista di valori generata da np.random.choice e per index le righe con i country code nulli per creare una Series;\n",
    "    country_code_replaced=pd.Series(np.random.choice(country_codes[0],p=country_codes[1],size=country_codes[3]),index=country_codes[2])\n",
    "    \n",
    "    if(df==\"lenders\"):\n",
    "        \n",
    "        lenders['country_code'].fillna(country_code_replaced,inplace=True)\n",
    "        return lenders\n",
    "    \n",
    "    elif(df==\"loans\"):\n",
    "        \n",
    "        loans['country_code'].fillna(country_code_replaced,inplace=True)\n",
    "        return loans"
   ]
  },
  {
   "cell_type": "code",
   "execution_count": 123,
   "metadata": {
    "collapsed": true,
    "deletable": true,
    "editable": true
   },
   "outputs": [],
   "source": [
    "lenders=replace_null_country_codes(\"lenders\",lenders['country_code'])\n",
    "loans=replace_null_country_codes(\"loans\",loans['country_code'])"
   ]
  },
  {
   "cell_type": "markdown",
   "metadata": {
    "deletable": true,
    "editable": true
   },
   "source": [
    "Dopo aver sostituito i *country_code* nulli si verifica che non ce ne siano più."
   ]
  },
  {
   "cell_type": "code",
   "execution_count": 124,
   "metadata": {
    "collapsed": false,
    "deletable": true,
    "editable": true
   },
   "outputs": [
    {
     "name": "stdout",
     "output_type": "stream",
     "text": [
      "False    2349174\n",
      "Name: country_code, dtype: int64\n",
      "False    1419607\n",
      "Name: country_code, dtype: int64\n"
     ]
    }
   ],
   "source": [
    "print(lenders['country_code'].isna().value_counts())\n",
    "print(loans['country_code'].isna().value_counts())   "
   ]
  },
  {
   "cell_type": "markdown",
   "metadata": {
    "deletable": true,
    "editable": true
   },
   "source": [
    "Adesso possiamo calcolare il valore totale per Nazione dei soldi presi in prestito e dei soldi prestati.\n",
    "Per il dataframe **loans** basta raggruppare per *country_code* e sommare il *loan_amount*.\n",
    "Per il dataframe **lenders**, invece, bisogna prima andare in *merge* tra *lenders* e *money_lenders*."
   ]
  },
  {
   "cell_type": "code",
   "execution_count": 133,
   "metadata": {
    "collapsed": true,
    "deletable": true,
    "editable": true
   },
   "outputs": [],
   "source": [
    "country_money_borrowed= loans.groupby('country_code')['loan_amount'].sum().round(2).reset_index(name = 'amount_money_borrowed')"
   ]
  },
  {
   "cell_type": "code",
   "execution_count": 134,
   "metadata": {
    "collapsed": false,
    "deletable": true,
    "editable": true
   },
   "outputs": [],
   "source": [
    "country_money_lent = pd.merge(money_lenders, lenders[['permanent_name', 'country_code']],left_on = 'lenders', right_on = 'permanent_name')\n",
    "country_money_lent = country_money_lent.groupby('country_code')['amount'].sum().round(2).reset_index(name = 'amount_money_lent')"
   ]
  },
  {
   "cell_type": "markdown",
   "metadata": {
    "deletable": true,
    "editable": true
   },
   "source": [
    "Per concludere, si crea un dataframe finale con i valori di soldi prestati e presi in prestito per Nazione *country_code* e viene calcolata la differenza all'interno della colonna **difference** tra soldi prestati **amount_money_lent** meno soldi presi in prestito **amount_money_borrowed**."
   ]
  },
  {
   "cell_type": "code",
   "execution_count": 135,
   "metadata": {
    "collapsed": false,
    "deletable": true,
    "editable": true
   },
   "outputs": [],
   "source": [
    "country_lent_borrowed = pd.merge(country_money_lent, country_money_borrowed, on='country_code',how='outer')\n",
    "country_lent_borrowed.fillna(0, inplace=True)\n",
    "country_lent_borrowed['difference']= round(country_lent_borrowed['amount_money_lent']-country_lent_borrowed['amount_money_borrowed'],2)"
   ]
  },
  {
   "cell_type": "code",
   "execution_count": 136,
   "metadata": {
    "collapsed": false,
    "deletable": true,
    "editable": true
   },
   "outputs": [
    {
     "data": {
      "text/html": [
       "<div>\n",
       "<style scoped>\n",
       "    .dataframe tbody tr th:only-of-type {\n",
       "        vertical-align: middle;\n",
       "    }\n",
       "\n",
       "    .dataframe tbody tr th {\n",
       "        vertical-align: top;\n",
       "    }\n",
       "\n",
       "    .dataframe thead th {\n",
       "        text-align: right;\n",
       "    }\n",
       "</style>\n",
       "<table border=\"1\" class=\"dataframe\">\n",
       "  <thead>\n",
       "    <tr style=\"text-align: right;\">\n",
       "      <th></th>\n",
       "      <th>country_code</th>\n",
       "      <th>amount_money_lent</th>\n",
       "      <th>amount_money_borrowed</th>\n",
       "      <th>difference</th>\n",
       "    </tr>\n",
       "  </thead>\n",
       "  <tbody>\n",
       "    <tr>\n",
       "      <th>0</th>\n",
       "      <td>AD</td>\n",
       "      <td>28235.25</td>\n",
       "      <td>0.0</td>\n",
       "      <td>28235.25</td>\n",
       "    </tr>\n",
       "    <tr>\n",
       "      <th>1</th>\n",
       "      <td>AE</td>\n",
       "      <td>2348424.83</td>\n",
       "      <td>0.0</td>\n",
       "      <td>2348424.83</td>\n",
       "    </tr>\n",
       "    <tr>\n",
       "      <th>2</th>\n",
       "      <td>AF</td>\n",
       "      <td>100589.28</td>\n",
       "      <td>1967950.0</td>\n",
       "      <td>-1867360.72</td>\n",
       "    </tr>\n",
       "    <tr>\n",
       "      <th>3</th>\n",
       "      <td>AG</td>\n",
       "      <td>950.76</td>\n",
       "      <td>0.0</td>\n",
       "      <td>950.76</td>\n",
       "    </tr>\n",
       "    <tr>\n",
       "      <th>4</th>\n",
       "      <td>AI</td>\n",
       "      <td>381.27</td>\n",
       "      <td>0.0</td>\n",
       "      <td>381.27</td>\n",
       "    </tr>\n",
       "    <tr>\n",
       "      <th>...</th>\n",
       "      <td>...</td>\n",
       "      <td>...</td>\n",
       "      <td>...</td>\n",
       "      <td>...</td>\n",
       "    </tr>\n",
       "    <tr>\n",
       "      <th>229</th>\n",
       "      <td>YT</td>\n",
       "      <td>3635.82</td>\n",
       "      <td>0.0</td>\n",
       "      <td>3635.82</td>\n",
       "    </tr>\n",
       "    <tr>\n",
       "      <th>230</th>\n",
       "      <td>ZA</td>\n",
       "      <td>515986.97</td>\n",
       "      <td>1006525.0</td>\n",
       "      <td>-490538.03</td>\n",
       "    </tr>\n",
       "    <tr>\n",
       "      <th>231</th>\n",
       "      <td>ZM</td>\n",
       "      <td>39791.34</td>\n",
       "      <td>1978975.0</td>\n",
       "      <td>-1939183.66</td>\n",
       "    </tr>\n",
       "    <tr>\n",
       "      <th>232</th>\n",
       "      <td>ZW</td>\n",
       "      <td>6552.41</td>\n",
       "      <td>5851875.0</td>\n",
       "      <td>-5845322.59</td>\n",
       "    </tr>\n",
       "    <tr>\n",
       "      <th>233</th>\n",
       "      <td>TD</td>\n",
       "      <td>0.00</td>\n",
       "      <td>20075.0</td>\n",
       "      <td>-20075.00</td>\n",
       "    </tr>\n",
       "  </tbody>\n",
       "</table>\n",
       "<p>234 rows × 4 columns</p>\n",
       "</div>"
      ],
      "text/plain": [
       "    country_code  amount_money_lent  amount_money_borrowed  difference\n",
       "0             AD           28235.25                    0.0    28235.25\n",
       "1             AE         2348424.83                    0.0  2348424.83\n",
       "2             AF          100589.28              1967950.0 -1867360.72\n",
       "3             AG             950.76                    0.0      950.76\n",
       "4             AI             381.27                    0.0      381.27\n",
       "..           ...                ...                    ...         ...\n",
       "229           YT            3635.82                    0.0     3635.82\n",
       "230           ZA          515986.97              1006525.0  -490538.03\n",
       "231           ZM           39791.34              1978975.0 -1939183.66\n",
       "232           ZW            6552.41              5851875.0 -5845322.59\n",
       "233           TD               0.00                20075.0   -20075.00\n",
       "\n",
       "[234 rows x 4 columns]"
      ]
     },
     "execution_count": 136,
     "metadata": {},
     "output_type": "execute_result"
    }
   ],
   "source": [
    "country_lent_borrowed"
   ]
  },
  {
   "cell_type": "markdown",
   "metadata": {
    "deletable": true,
    "editable": true
   },
   "source": [
    "#### 10) Which country has the highest ratio between the difference computed at the previous point and the population?"
   ]
  },
  {
   "cell_type": "markdown",
   "metadata": {
    "deletable": true,
    "editable": true
   },
   "source": [
    "La prima operazione per risolvere questo punto è effettuare un *merge* tra il dataframe che contiene le informazioni della popolazione delle varie Nazioni **country_stats** e il dataframe costruito precedentemente **country_lent_borrowed** e viene restituito il Paese che ha la *ratio più alta*."
   ]
  },
  {
   "cell_type": "code",
   "execution_count": 137,
   "metadata": {
    "collapsed": false,
    "deletable": true,
    "editable": true
   },
   "outputs": [
    {
     "name": "stdout",
     "output_type": "stream",
     "text": [
      "NO\n"
     ]
    }
   ],
   "source": [
    "country_diff_population= pd.merge(country_lent_borrowed,country_stats[['country_code','population']],on='country_code')\n",
    "country_diff_population= country_diff_population.set_index('country_code')\n",
    "print((country_diff_population['difference']/country_diff_population['population']).idxmax())"
   ]
  },
  {
   "cell_type": "markdown",
   "metadata": {
    "deletable": true,
    "editable": true
   },
   "source": [
    "#### 11) Which country has the highest ratio between the difference computed at point 9 and the population that is not below the poverty line?"
   ]
  },
  {
   "cell_type": "markdown",
   "metadata": {},
   "source": [
    "Anche questa volta, la prima operazione per risolvere questo punto è effettuare un *merge* tra il dataframe che contiene le informazioni della popolazione e della *population_below_poverty_line* delle varie Nazioni **country_stats** e il dataframe costruito precedentemente **country_lent_borrowed** e viene restituito il Paese che ha la *ratio più alta* stavolta però tenendo conto solamente della popolazione che *non sta sotto la soglia di povertà*."
   ]
  },
  {
   "cell_type": "code",
   "execution_count": 140,
   "metadata": {
    "collapsed": false,
    "deletable": true,
    "editable": true
   },
   "outputs": [
    {
     "name": "stdout",
     "output_type": "stream",
     "text": [
      "CA\n"
     ]
    }
   ],
   "source": [
    "country_diff_povertyline=pd.merge(country_lent_borrowed, country_stats[['country_code', 'population','population_below_poverty_line']],on='country_code')\n",
    "country_diff_povertyline['population_above_poverty_line']=(country_diff_povertyline['population']*(100-country_diff_povertyline['population_below_poverty_line'])) / 100\n",
    "country_diff_povertyline=country_diff_povertyline.set_index('country_code')\n",
    "print((country_diff_povertyline['difference']/country_diff_povertyline['population_above_poverty_line']).idxmax())"
   ]
  },
  {
   "cell_type": "markdown",
   "metadata": {
    "deletable": true,
    "editable": true
   },
   "source": [
    "#### 12) For each year, compute the total amount of loans. Each loan that has planned expiration time and disburse time in different years must have its amount distributed proportionally to the number of days in each year. "
   ]
  },
  {
   "cell_type": "markdown",
   "metadata": {
    "deletable": true,
    "editable": true
   },
   "source": [
    "Per Concludere, per risolvere quest'ultimo punto si sono effettuate alcune operazioni di pulizia dei dati presenti all'interno del dataframe **loans**.\n",
    "Come prima cosa si è calcolato il valore assoluto della colonna *duration*. Successivamente, si sono eliminati i valori nulli delle colonne *planned_expiration_time* e *disburse_time* e infine, per semplicità di computazione si sono divisi tutti i prestiti con durata diversa da zero da quelli con durata zero."
   ]
  },
  {
   "cell_type": "code",
   "execution_count": 143,
   "metadata": {
    "collapsed": false,
    "deletable": true,
    "editable": true
   },
   "outputs": [],
   "source": [
    "loans['duration']= loans['duration'].abs()\n",
    "loans_noNull= loans.dropna(subset=['planned_expiration_time', 'disburse_time'])\n",
    "\n",
    "duration_noZero= loans_noNull[loans_noNull['duration'] != 0]\n",
    "duration_zero= loans_noNull[loans_noNull['duration'] == 0]"
   ]
  },
  {
   "cell_type": "markdown",
   "metadata": {
    "deletable": true,
    "editable": true
   },
   "source": [
    "Viene creata la funzione **day_count** per calcolare il numero di giorni tra la data di inizio e la data fine. Per ogni anno il valore corrisponde al numero di giorni tra la data di inizio e di fine. "
   ]
  },
  {
   "cell_type": "code",
   "execution_count": 152,
   "metadata": {
    "collapsed": true,
    "deletable": true,
    "editable": true
   },
   "outputs": [],
   "source": [
    "def day_count(date1, date2):\n",
    "    \n",
    "    if date1 < date2:\n",
    "        begin = date1 + datetime.timedelta(1)\n",
    "        end = date2 + datetime.timedelta(1)\n",
    "    else:\n",
    "        begin = date2 + datetime.timedelta(1)\n",
    "        end = date1 + datetime.timedelta(1)\n",
    "        \n",
    "    years = range(begin.year,end.year + 1)\n",
    "    dictionary = dict()\n",
    "    \n",
    "    for year in years:\n",
    "        year_start = datetime.date(year, 1, 1)\n",
    "        year_end = datetime.date(year + 1, 1, 1)\n",
    "        dictionary.update({year:(min(end, year_end) - max(begin, year_start)).days})\n",
    "        \n",
    "    return pd.Series(dictionary, name = 'Date_Value')"
   ]
  },
  {
   "cell_type": "code",
   "execution_count": 153,
   "metadata": {
    "collapsed": false,
    "deletable": true,
    "editable": true
   },
   "outputs": [
    {
     "data": {
      "text/html": [
       "<div>\n",
       "<style scoped>\n",
       "    .dataframe tbody tr th:only-of-type {\n",
       "        vertical-align: middle;\n",
       "    }\n",
       "\n",
       "    .dataframe tbody tr th {\n",
       "        vertical-align: top;\n",
       "    }\n",
       "\n",
       "    .dataframe thead th {\n",
       "        text-align: right;\n",
       "    }\n",
       "</style>\n",
       "<table border=\"1\" class=\"dataframe\">\n",
       "  <thead>\n",
       "    <tr style=\"text-align: right;\">\n",
       "      <th></th>\n",
       "      <th>2011</th>\n",
       "      <th>2012</th>\n",
       "      <th>2013</th>\n",
       "      <th>2014</th>\n",
       "      <th>2015</th>\n",
       "      <th>2016</th>\n",
       "      <th>2017</th>\n",
       "      <th>2018</th>\n",
       "    </tr>\n",
       "  </thead>\n",
       "  <tbody>\n",
       "    <tr>\n",
       "      <th>0</th>\n",
       "      <td>NaN</td>\n",
       "      <td>NaN</td>\n",
       "      <td>9.0</td>\n",
       "      <td>45.0</td>\n",
       "      <td>NaN</td>\n",
       "      <td>NaN</td>\n",
       "      <td>NaN</td>\n",
       "      <td>NaN</td>\n",
       "    </tr>\n",
       "    <tr>\n",
       "      <th>1</th>\n",
       "      <td>NaN</td>\n",
       "      <td>NaN</td>\n",
       "      <td>11.0</td>\n",
       "      <td>85.0</td>\n",
       "      <td>NaN</td>\n",
       "      <td>NaN</td>\n",
       "      <td>NaN</td>\n",
       "      <td>NaN</td>\n",
       "    </tr>\n",
       "    <tr>\n",
       "      <th>2</th>\n",
       "      <td>NaN</td>\n",
       "      <td>NaN</td>\n",
       "      <td>NaN</td>\n",
       "      <td>37.0</td>\n",
       "      <td>NaN</td>\n",
       "      <td>NaN</td>\n",
       "      <td>NaN</td>\n",
       "      <td>NaN</td>\n",
       "    </tr>\n",
       "    <tr>\n",
       "      <th>3</th>\n",
       "      <td>NaN</td>\n",
       "      <td>NaN</td>\n",
       "      <td>NaN</td>\n",
       "      <td>35.0</td>\n",
       "      <td>NaN</td>\n",
       "      <td>NaN</td>\n",
       "      <td>NaN</td>\n",
       "      <td>NaN</td>\n",
       "    </tr>\n",
       "    <tr>\n",
       "      <th>4</th>\n",
       "      <td>NaN</td>\n",
       "      <td>NaN</td>\n",
       "      <td>14.0</td>\n",
       "      <td>44.0</td>\n",
       "      <td>NaN</td>\n",
       "      <td>NaN</td>\n",
       "      <td>NaN</td>\n",
       "      <td>NaN</td>\n",
       "    </tr>\n",
       "    <tr>\n",
       "      <th>...</th>\n",
       "      <td>...</td>\n",
       "      <td>...</td>\n",
       "      <td>...</td>\n",
       "      <td>...</td>\n",
       "      <td>...</td>\n",
       "      <td>...</td>\n",
       "      <td>...</td>\n",
       "      <td>...</td>\n",
       "    </tr>\n",
       "    <tr>\n",
       "      <th>1419602</th>\n",
       "      <td>NaN</td>\n",
       "      <td>NaN</td>\n",
       "      <td>NaN</td>\n",
       "      <td>NaN</td>\n",
       "      <td>38.0</td>\n",
       "      <td>2.0</td>\n",
       "      <td>NaN</td>\n",
       "      <td>NaN</td>\n",
       "    </tr>\n",
       "    <tr>\n",
       "      <th>1419603</th>\n",
       "      <td>NaN</td>\n",
       "      <td>NaN</td>\n",
       "      <td>NaN</td>\n",
       "      <td>NaN</td>\n",
       "      <td>37.0</td>\n",
       "      <td>2.0</td>\n",
       "      <td>NaN</td>\n",
       "      <td>NaN</td>\n",
       "    </tr>\n",
       "    <tr>\n",
       "      <th>1419604</th>\n",
       "      <td>NaN</td>\n",
       "      <td>NaN</td>\n",
       "      <td>NaN</td>\n",
       "      <td>NaN</td>\n",
       "      <td>48.0</td>\n",
       "      <td>3.0</td>\n",
       "      <td>NaN</td>\n",
       "      <td>NaN</td>\n",
       "    </tr>\n",
       "    <tr>\n",
       "      <th>1419605</th>\n",
       "      <td>NaN</td>\n",
       "      <td>NaN</td>\n",
       "      <td>NaN</td>\n",
       "      <td>NaN</td>\n",
       "      <td>58.0</td>\n",
       "      <td>5.0</td>\n",
       "      <td>NaN</td>\n",
       "      <td>NaN</td>\n",
       "    </tr>\n",
       "    <tr>\n",
       "      <th>1419606</th>\n",
       "      <td>NaN</td>\n",
       "      <td>NaN</td>\n",
       "      <td>NaN</td>\n",
       "      <td>NaN</td>\n",
       "      <td>58.0</td>\n",
       "      <td>3.0</td>\n",
       "      <td>NaN</td>\n",
       "      <td>NaN</td>\n",
       "    </tr>\n",
       "  </tbody>\n",
       "</table>\n",
       "<p>1044218 rows × 8 columns</p>\n",
       "</div>"
      ],
      "text/plain": [
       "         2011  2012  2013  2014  2015  2016  2017  2018\n",
       "0         NaN   NaN   9.0  45.0   NaN   NaN   NaN   NaN\n",
       "1         NaN   NaN  11.0  85.0   NaN   NaN   NaN   NaN\n",
       "2         NaN   NaN   NaN  37.0   NaN   NaN   NaN   NaN\n",
       "3         NaN   NaN   NaN  35.0   NaN   NaN   NaN   NaN\n",
       "4         NaN   NaN  14.0  44.0   NaN   NaN   NaN   NaN\n",
       "...       ...   ...   ...   ...   ...   ...   ...   ...\n",
       "1419602   NaN   NaN   NaN   NaN  38.0   2.0   NaN   NaN\n",
       "1419603   NaN   NaN   NaN   NaN  37.0   2.0   NaN   NaN\n",
       "1419604   NaN   NaN   NaN   NaN  48.0   3.0   NaN   NaN\n",
       "1419605   NaN   NaN   NaN   NaN  58.0   5.0   NaN   NaN\n",
       "1419606   NaN   NaN   NaN   NaN  58.0   3.0   NaN   NaN\n",
       "\n",
       "[1044218 rows x 8 columns]"
      ]
     },
     "execution_count": 153,
     "metadata": {},
     "output_type": "execute_result"
    }
   ],
   "source": [
    "timetable = duration_noZero.apply(lambda x: day_count(x['disburse_time'], x['planned_expiration_time']), axis = 1)\n",
    "timetable"
   ]
  },
  {
   "cell_type": "markdown",
   "metadata": {
    "deletable": true,
    "editable": true
   },
   "source": [
    "Si procede inserendo **0** come valore in tutti i precedenti valori **NaN** del dataframe *timetable*. Successivamente viene effettuato un *merge* tra questo dataframe e quello dei prestiti con durata diversa da zero, per poter ottenere informazioni sulla *duration* e sul *loan_amount*. "
   ]
  },
  {
   "cell_type": "code",
   "execution_count": 154,
   "metadata": {
    "collapsed": false,
    "deletable": true,
    "editable": true
   },
   "outputs": [
    {
     "data": {
      "text/html": [
       "<div>\n",
       "<style scoped>\n",
       "    .dataframe tbody tr th:only-of-type {\n",
       "        vertical-align: middle;\n",
       "    }\n",
       "\n",
       "    .dataframe tbody tr th {\n",
       "        vertical-align: top;\n",
       "    }\n",
       "\n",
       "    .dataframe thead th {\n",
       "        text-align: right;\n",
       "    }\n",
       "</style>\n",
       "<table border=\"1\" class=\"dataframe\">\n",
       "  <thead>\n",
       "    <tr style=\"text-align: right;\">\n",
       "      <th></th>\n",
       "      <th>loan_id</th>\n",
       "      <th>2011</th>\n",
       "      <th>2012</th>\n",
       "      <th>2013</th>\n",
       "      <th>2014</th>\n",
       "      <th>2015</th>\n",
       "      <th>2016</th>\n",
       "      <th>2017</th>\n",
       "      <th>2018</th>\n",
       "      <th>loan_amount</th>\n",
       "      <th>duration</th>\n",
       "    </tr>\n",
       "  </thead>\n",
       "  <tbody>\n",
       "    <tr>\n",
       "      <th>0</th>\n",
       "      <td>657307</td>\n",
       "      <td>0.0</td>\n",
       "      <td>0.0</td>\n",
       "      <td>9.0</td>\n",
       "      <td>45.0</td>\n",
       "      <td>0.0</td>\n",
       "      <td>0.0</td>\n",
       "      <td>0.0</td>\n",
       "      <td>0.0</td>\n",
       "      <td>125.0</td>\n",
       "      <td>54.0</td>\n",
       "    </tr>\n",
       "    <tr>\n",
       "      <th>1</th>\n",
       "      <td>657259</td>\n",
       "      <td>0.0</td>\n",
       "      <td>0.0</td>\n",
       "      <td>11.0</td>\n",
       "      <td>85.0</td>\n",
       "      <td>0.0</td>\n",
       "      <td>0.0</td>\n",
       "      <td>0.0</td>\n",
       "      <td>0.0</td>\n",
       "      <td>400.0</td>\n",
       "      <td>96.0</td>\n",
       "    </tr>\n",
       "    <tr>\n",
       "      <th>2</th>\n",
       "      <td>658010</td>\n",
       "      <td>0.0</td>\n",
       "      <td>0.0</td>\n",
       "      <td>0.0</td>\n",
       "      <td>37.0</td>\n",
       "      <td>0.0</td>\n",
       "      <td>0.0</td>\n",
       "      <td>0.0</td>\n",
       "      <td>0.0</td>\n",
       "      <td>400.0</td>\n",
       "      <td>37.0</td>\n",
       "    </tr>\n",
       "    <tr>\n",
       "      <th>3</th>\n",
       "      <td>659347</td>\n",
       "      <td>0.0</td>\n",
       "      <td>0.0</td>\n",
       "      <td>0.0</td>\n",
       "      <td>35.0</td>\n",
       "      <td>0.0</td>\n",
       "      <td>0.0</td>\n",
       "      <td>0.0</td>\n",
       "      <td>0.0</td>\n",
       "      <td>625.0</td>\n",
       "      <td>35.0</td>\n",
       "    </tr>\n",
       "    <tr>\n",
       "      <th>4</th>\n",
       "      <td>656933</td>\n",
       "      <td>0.0</td>\n",
       "      <td>0.0</td>\n",
       "      <td>14.0</td>\n",
       "      <td>44.0</td>\n",
       "      <td>0.0</td>\n",
       "      <td>0.0</td>\n",
       "      <td>0.0</td>\n",
       "      <td>0.0</td>\n",
       "      <td>425.0</td>\n",
       "      <td>58.0</td>\n",
       "    </tr>\n",
       "    <tr>\n",
       "      <th>...</th>\n",
       "      <td>...</td>\n",
       "      <td>...</td>\n",
       "      <td>...</td>\n",
       "      <td>...</td>\n",
       "      <td>...</td>\n",
       "      <td>...</td>\n",
       "      <td>...</td>\n",
       "      <td>...</td>\n",
       "      <td>...</td>\n",
       "      <td>...</td>\n",
       "      <td>...</td>\n",
       "    </tr>\n",
       "    <tr>\n",
       "      <th>1044213</th>\n",
       "      <td>988180</td>\n",
       "      <td>0.0</td>\n",
       "      <td>0.0</td>\n",
       "      <td>0.0</td>\n",
       "      <td>0.0</td>\n",
       "      <td>38.0</td>\n",
       "      <td>2.0</td>\n",
       "      <td>0.0</td>\n",
       "      <td>0.0</td>\n",
       "      <td>400.0</td>\n",
       "      <td>40.0</td>\n",
       "    </tr>\n",
       "    <tr>\n",
       "      <th>1044214</th>\n",
       "      <td>988213</td>\n",
       "      <td>0.0</td>\n",
       "      <td>0.0</td>\n",
       "      <td>0.0</td>\n",
       "      <td>0.0</td>\n",
       "      <td>37.0</td>\n",
       "      <td>2.0</td>\n",
       "      <td>0.0</td>\n",
       "      <td>0.0</td>\n",
       "      <td>300.0</td>\n",
       "      <td>39.0</td>\n",
       "    </tr>\n",
       "    <tr>\n",
       "      <th>1044215</th>\n",
       "      <td>989109</td>\n",
       "      <td>0.0</td>\n",
       "      <td>0.0</td>\n",
       "      <td>0.0</td>\n",
       "      <td>0.0</td>\n",
       "      <td>48.0</td>\n",
       "      <td>3.0</td>\n",
       "      <td>0.0</td>\n",
       "      <td>0.0</td>\n",
       "      <td>2425.0</td>\n",
       "      <td>51.0</td>\n",
       "    </tr>\n",
       "    <tr>\n",
       "      <th>1044216</th>\n",
       "      <td>989143</td>\n",
       "      <td>0.0</td>\n",
       "      <td>0.0</td>\n",
       "      <td>0.0</td>\n",
       "      <td>0.0</td>\n",
       "      <td>58.0</td>\n",
       "      <td>5.0</td>\n",
       "      <td>0.0</td>\n",
       "      <td>0.0</td>\n",
       "      <td>100.0</td>\n",
       "      <td>63.0</td>\n",
       "    </tr>\n",
       "    <tr>\n",
       "      <th>1044217</th>\n",
       "      <td>989240</td>\n",
       "      <td>0.0</td>\n",
       "      <td>0.0</td>\n",
       "      <td>0.0</td>\n",
       "      <td>0.0</td>\n",
       "      <td>58.0</td>\n",
       "      <td>3.0</td>\n",
       "      <td>0.0</td>\n",
       "      <td>0.0</td>\n",
       "      <td>175.0</td>\n",
       "      <td>61.0</td>\n",
       "    </tr>\n",
       "  </tbody>\n",
       "</table>\n",
       "<p>1044218 rows × 11 columns</p>\n",
       "</div>"
      ],
      "text/plain": [
       "         loan_id  2011  2012  2013  2014  2015  2016  2017  2018  loan_amount  \\\n",
       "0         657307   0.0   0.0   9.0  45.0   0.0   0.0   0.0   0.0        125.0   \n",
       "1         657259   0.0   0.0  11.0  85.0   0.0   0.0   0.0   0.0        400.0   \n",
       "2         658010   0.0   0.0   0.0  37.0   0.0   0.0   0.0   0.0        400.0   \n",
       "3         659347   0.0   0.0   0.0  35.0   0.0   0.0   0.0   0.0        625.0   \n",
       "4         656933   0.0   0.0  14.0  44.0   0.0   0.0   0.0   0.0        425.0   \n",
       "...          ...   ...   ...   ...   ...   ...   ...   ...   ...          ...   \n",
       "1044213   988180   0.0   0.0   0.0   0.0  38.0   2.0   0.0   0.0        400.0   \n",
       "1044214   988213   0.0   0.0   0.0   0.0  37.0   2.0   0.0   0.0        300.0   \n",
       "1044215   989109   0.0   0.0   0.0   0.0  48.0   3.0   0.0   0.0       2425.0   \n",
       "1044216   989143   0.0   0.0   0.0   0.0  58.0   5.0   0.0   0.0        100.0   \n",
       "1044217   989240   0.0   0.0   0.0   0.0  58.0   3.0   0.0   0.0        175.0   \n",
       "\n",
       "         duration  \n",
       "0            54.0  \n",
       "1            96.0  \n",
       "2            37.0  \n",
       "3            35.0  \n",
       "4            58.0  \n",
       "...           ...  \n",
       "1044213      40.0  \n",
       "1044214      39.0  \n",
       "1044215      51.0  \n",
       "1044216      63.0  \n",
       "1044217      61.0  \n",
       "\n",
       "[1044218 rows x 11 columns]"
      ]
     },
     "execution_count": 154,
     "metadata": {},
     "output_type": "execute_result"
    }
   ],
   "source": [
    "timetable.fillna(0, inplace= True)\n",
    "timetable= timetable.set_index(duration_noZero['loan_id']).reset_index()\n",
    "timetable= pd.merge(timetable, duration_noZero[['loan_id','loan_amount','duration']],on='loan_id')\n",
    "timetable"
   ]
  },
  {
   "cell_type": "markdown",
   "metadata": {
    "deletable": true,
    "editable": true
   },
   "source": [
    "L'operazione successiva è creare un nuovo dataframe in cui viene calcolato in modo proporzionale l'ammontare dei prestiti per i singoli anni."
   ]
  },
  {
   "cell_type": "code",
   "execution_count": 158,
   "metadata": {
    "collapsed": false,
    "deletable": true,
    "editable": true
   },
   "outputs": [
    {
     "data": {
      "text/html": [
       "<div>\n",
       "<style scoped>\n",
       "    .dataframe tbody tr th:only-of-type {\n",
       "        vertical-align: middle;\n",
       "    }\n",
       "\n",
       "    .dataframe tbody tr th {\n",
       "        vertical-align: top;\n",
       "    }\n",
       "\n",
       "    .dataframe thead th {\n",
       "        text-align: right;\n",
       "    }\n",
       "</style>\n",
       "<table border=\"1\" class=\"dataframe\">\n",
       "  <thead>\n",
       "    <tr style=\"text-align: right;\">\n",
       "      <th></th>\n",
       "      <th>2011</th>\n",
       "      <th>2012</th>\n",
       "      <th>2013</th>\n",
       "      <th>2014</th>\n",
       "      <th>2015</th>\n",
       "      <th>2016</th>\n",
       "      <th>2017</th>\n",
       "      <th>2018</th>\n",
       "    </tr>\n",
       "  </thead>\n",
       "  <tbody>\n",
       "    <tr>\n",
       "      <th>0</th>\n",
       "      <td>0.0</td>\n",
       "      <td>0.0</td>\n",
       "      <td>20.833333</td>\n",
       "      <td>104.166667</td>\n",
       "      <td>0.000000</td>\n",
       "      <td>0.000000</td>\n",
       "      <td>0.0</td>\n",
       "      <td>0.0</td>\n",
       "    </tr>\n",
       "    <tr>\n",
       "      <th>1</th>\n",
       "      <td>0.0</td>\n",
       "      <td>0.0</td>\n",
       "      <td>45.833333</td>\n",
       "      <td>354.166667</td>\n",
       "      <td>0.000000</td>\n",
       "      <td>0.000000</td>\n",
       "      <td>0.0</td>\n",
       "      <td>0.0</td>\n",
       "    </tr>\n",
       "    <tr>\n",
       "      <th>2</th>\n",
       "      <td>0.0</td>\n",
       "      <td>0.0</td>\n",
       "      <td>0.000000</td>\n",
       "      <td>400.000000</td>\n",
       "      <td>0.000000</td>\n",
       "      <td>0.000000</td>\n",
       "      <td>0.0</td>\n",
       "      <td>0.0</td>\n",
       "    </tr>\n",
       "    <tr>\n",
       "      <th>3</th>\n",
       "      <td>0.0</td>\n",
       "      <td>0.0</td>\n",
       "      <td>0.000000</td>\n",
       "      <td>625.000000</td>\n",
       "      <td>0.000000</td>\n",
       "      <td>0.000000</td>\n",
       "      <td>0.0</td>\n",
       "      <td>0.0</td>\n",
       "    </tr>\n",
       "    <tr>\n",
       "      <th>4</th>\n",
       "      <td>0.0</td>\n",
       "      <td>0.0</td>\n",
       "      <td>102.586207</td>\n",
       "      <td>322.413793</td>\n",
       "      <td>0.000000</td>\n",
       "      <td>0.000000</td>\n",
       "      <td>0.0</td>\n",
       "      <td>0.0</td>\n",
       "    </tr>\n",
       "    <tr>\n",
       "      <th>...</th>\n",
       "      <td>...</td>\n",
       "      <td>...</td>\n",
       "      <td>...</td>\n",
       "      <td>...</td>\n",
       "      <td>...</td>\n",
       "      <td>...</td>\n",
       "      <td>...</td>\n",
       "      <td>...</td>\n",
       "    </tr>\n",
       "    <tr>\n",
       "      <th>1044213</th>\n",
       "      <td>0.0</td>\n",
       "      <td>0.0</td>\n",
       "      <td>0.000000</td>\n",
       "      <td>0.000000</td>\n",
       "      <td>380.000000</td>\n",
       "      <td>20.000000</td>\n",
       "      <td>0.0</td>\n",
       "      <td>0.0</td>\n",
       "    </tr>\n",
       "    <tr>\n",
       "      <th>1044214</th>\n",
       "      <td>0.0</td>\n",
       "      <td>0.0</td>\n",
       "      <td>0.000000</td>\n",
       "      <td>0.000000</td>\n",
       "      <td>284.615385</td>\n",
       "      <td>15.384615</td>\n",
       "      <td>0.0</td>\n",
       "      <td>0.0</td>\n",
       "    </tr>\n",
       "    <tr>\n",
       "      <th>1044215</th>\n",
       "      <td>0.0</td>\n",
       "      <td>0.0</td>\n",
       "      <td>0.000000</td>\n",
       "      <td>0.000000</td>\n",
       "      <td>2282.352941</td>\n",
       "      <td>142.647059</td>\n",
       "      <td>0.0</td>\n",
       "      <td>0.0</td>\n",
       "    </tr>\n",
       "    <tr>\n",
       "      <th>1044216</th>\n",
       "      <td>0.0</td>\n",
       "      <td>0.0</td>\n",
       "      <td>0.000000</td>\n",
       "      <td>0.000000</td>\n",
       "      <td>92.063492</td>\n",
       "      <td>7.936508</td>\n",
       "      <td>0.0</td>\n",
       "      <td>0.0</td>\n",
       "    </tr>\n",
       "    <tr>\n",
       "      <th>1044217</th>\n",
       "      <td>0.0</td>\n",
       "      <td>0.0</td>\n",
       "      <td>0.000000</td>\n",
       "      <td>0.000000</td>\n",
       "      <td>166.393443</td>\n",
       "      <td>8.606557</td>\n",
       "      <td>0.0</td>\n",
       "      <td>0.0</td>\n",
       "    </tr>\n",
       "  </tbody>\n",
       "</table>\n",
       "<p>1044218 rows × 8 columns</p>\n",
       "</div>"
      ],
      "text/plain": [
       "         2011  2012        2013        2014         2015        2016  2017  \\\n",
       "0         0.0   0.0   20.833333  104.166667     0.000000    0.000000   0.0   \n",
       "1         0.0   0.0   45.833333  354.166667     0.000000    0.000000   0.0   \n",
       "2         0.0   0.0    0.000000  400.000000     0.000000    0.000000   0.0   \n",
       "3         0.0   0.0    0.000000  625.000000     0.000000    0.000000   0.0   \n",
       "4         0.0   0.0  102.586207  322.413793     0.000000    0.000000   0.0   \n",
       "...       ...   ...         ...         ...          ...         ...   ...   \n",
       "1044213   0.0   0.0    0.000000    0.000000   380.000000   20.000000   0.0   \n",
       "1044214   0.0   0.0    0.000000    0.000000   284.615385   15.384615   0.0   \n",
       "1044215   0.0   0.0    0.000000    0.000000  2282.352941  142.647059   0.0   \n",
       "1044216   0.0   0.0    0.000000    0.000000    92.063492    7.936508   0.0   \n",
       "1044217   0.0   0.0    0.000000    0.000000   166.393443    8.606557   0.0   \n",
       "\n",
       "         2018  \n",
       "0         0.0  \n",
       "1         0.0  \n",
       "2         0.0  \n",
       "3         0.0  \n",
       "4         0.0  \n",
       "...       ...  \n",
       "1044213   0.0  \n",
       "1044214   0.0  \n",
       "1044215   0.0  \n",
       "1044216   0.0  \n",
       "1044217   0.0  \n",
       "\n",
       "[1044218 rows x 8 columns]"
      ]
     },
     "execution_count": 158,
     "metadata": {},
     "output_type": "execute_result"
    }
   ],
   "source": [
    "loan_amount_per_year = timetable[[2011,2012,2013,2014,2015,2016,2017,2018]].div(timetable['duration'],axis=0).mul(timetable['loan_amount'],axis= 0)\n",
    "loan_amount_per_year"
   ]
  },
  {
   "cell_type": "markdown",
   "metadata": {
    "deletable": true,
    "editable": true
   },
   "source": [
    "Viene calcolata la somma dei prestiti anno per anno sul dataframe appena creato e anche la somma dei prestiti anno per anno sul dataframe dei prestiti con durata uguale a zero. Infine questi due dataset vengono concatenati, viene eseguita la somma tra i *loan_amount* dei due dataframe anno per anno, ed infine viene stampato il dataframe finale."
   ]
  },
  {
   "cell_type": "code",
   "execution_count": 159,
   "metadata": {
    "collapsed": true,
    "deletable": true,
    "editable": true
   },
   "outputs": [],
   "source": [
    "l_amount_year_noZero= loan_amount_per_year.sum().to_frame().reset_index().rename(columns={'index':'year', 0:'loan_amount'})\n",
    "l_amount_year_Zero= duration_zero.groupby('disburse_year')['loan_amount'].sum().to_frame().reset_index().rename(columns={'disburse_year':'year'})"
   ]
  },
  {
   "cell_type": "code",
   "execution_count": 174,
   "metadata": {
    "collapsed": true,
    "deletable": true,
    "editable": true
   },
   "outputs": [],
   "source": [
    "loan_amount_per_year_complete= pd.concat([l_amount_year_noZero,l_amount_year_Zero]).groupby('year')['loan_amount'].sum().to_frame().reset_index()\n",
    "loan_amount_per_year_complete['loan_amount']= loan_amount_per_year_complete['loan_amount'].round(1)"
   ]
  },
  {
   "cell_type": "code",
   "execution_count": 175,
   "metadata": {
    "collapsed": false,
    "deletable": true,
    "editable": true
   },
   "outputs": [
    {
     "data": {
      "text/html": [
       "<div>\n",
       "<style scoped>\n",
       "    .dataframe tbody tr th:only-of-type {\n",
       "        vertical-align: middle;\n",
       "    }\n",
       "\n",
       "    .dataframe tbody tr th {\n",
       "        vertical-align: top;\n",
       "    }\n",
       "\n",
       "    .dataframe thead th {\n",
       "        text-align: right;\n",
       "    }\n",
       "</style>\n",
       "<table border=\"1\" class=\"dataframe\">\n",
       "  <thead>\n",
       "    <tr style=\"text-align: right;\">\n",
       "      <th></th>\n",
       "      <th>year</th>\n",
       "      <th>loan_amount</th>\n",
       "    </tr>\n",
       "  </thead>\n",
       "  <tbody>\n",
       "    <tr>\n",
       "      <th>0</th>\n",
       "      <td>2011.0</td>\n",
       "      <td>629911.8</td>\n",
       "    </tr>\n",
       "    <tr>\n",
       "      <th>1</th>\n",
       "      <td>2012.0</td>\n",
       "      <td>113287580.8</td>\n",
       "    </tr>\n",
       "    <tr>\n",
       "      <th>2</th>\n",
       "      <td>2013.0</td>\n",
       "      <td>125015552.0</td>\n",
       "    </tr>\n",
       "    <tr>\n",
       "      <th>3</th>\n",
       "      <td>2014.0</td>\n",
       "      <td>153214272.1</td>\n",
       "    </tr>\n",
       "    <tr>\n",
       "      <th>4</th>\n",
       "      <td>2015.0</td>\n",
       "      <td>159929916.5</td>\n",
       "    </tr>\n",
       "    <tr>\n",
       "      <th>5</th>\n",
       "      <td>2016.0</td>\n",
       "      <td>159363790.4</td>\n",
       "    </tr>\n",
       "    <tr>\n",
       "      <th>6</th>\n",
       "      <td>2017.0</td>\n",
       "      <td>172536423.5</td>\n",
       "    </tr>\n",
       "    <tr>\n",
       "      <th>7</th>\n",
       "      <td>2018.0</td>\n",
       "      <td>5826652.9</td>\n",
       "    </tr>\n",
       "  </tbody>\n",
       "</table>\n",
       "</div>"
      ],
      "text/plain": [
       "     year  loan_amount\n",
       "0  2011.0     629911.8\n",
       "1  2012.0  113287580.8\n",
       "2  2013.0  125015552.0\n",
       "3  2014.0  153214272.1\n",
       "4  2015.0  159929916.5\n",
       "5  2016.0  159363790.4\n",
       "6  2017.0  172536423.5\n",
       "7  2018.0    5826652.9"
      ]
     },
     "execution_count": 175,
     "metadata": {},
     "output_type": "execute_result"
    }
   ],
   "source": [
    "loan_amount_per_year_complete"
   ]
  },
  {
   "cell_type": "code",
   "execution_count": null,
   "metadata": {
    "collapsed": true,
    "deletable": true,
    "editable": true
   },
   "outputs": [],
   "source": []
  }
 ],
 "metadata": {
  "kernelspec": {
   "display_name": "Python3_6",
   "language": "python",
   "name": "python3_6"
  },
  "language_info": {
   "codemirror_mode": {
    "name": "ipython",
    "version": 3
   },
   "file_extension": ".py",
   "mimetype": "text/x-python",
   "name": "python",
   "nbconvert_exporter": "python",
   "pygments_lexer": "ipython3",
   "version": "3.6.10"
  }
 },
 "nbformat": 4,
 "nbformat_minor": 4
}
